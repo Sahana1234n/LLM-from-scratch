{
 "cells": [
  {
   "cell_type": "code",
   "execution_count": 2,
   "id": "3d679122",
   "metadata": {},
   "outputs": [],
   "source": [
    "import torch\n",
    "\n",
    "vocab_size = 50257\n",
    "output_dim = 256\n",
    "\n",
    "token_embedding_layer = torch.nn.Embedding(vocab_size , output_dim)"
   ]
  },
  {
   "cell_type": "code",
   "execution_count": 6,
   "id": "a9b7e964",
   "metadata": {},
   "outputs": [],
   "source": [
    "with open (\"the-verdict.txt\" , 'r' , encoding='utf-8') as f:\n",
    "    raw_text = f.read()"
   ]
  },
  {
   "cell_type": "code",
   "execution_count": 7,
   "id": "6fb49670",
   "metadata": {},
   "outputs": [],
   "source": [
    "from torch.utils.data import Dataset , DataLoader\n",
    "\n",
    "class GPTDataset1(Dataset):\n",
    "    def __init__(self , txt , tokenizer , max_length , stride):\n",
    "        self.input_ids = []\n",
    "        self.output_ids = []\n",
    "\n",
    "        token_ids = tokenizer.encode(txt , allowed_special={\"<|endoftext|>\"})\n",
    "\n",
    "        # use a sliding window to chunk \n",
    "\n",
    "        for i in range(0 , len(token_ids)- max_length , stride):\n",
    "            input_chunk = token_ids[i:i + max_length]\n",
    "            target_chunk = token_ids[i+1:i+max_length+1]\n",
    "            self.input_ids.append(torch.tensor(input_chunk))\n",
    "            self.output_ids.append(torch.tensor(target_chunk))\n",
    "\n",
    "    def __len__(self):\n",
    "            return len(self.input_ids) \n",
    "\n",
    "    def __getitem__(self , idx):\n",
    "            return self.input_ids[idx] , self.output_ids[idx]       "
   ]
  },
  {
   "cell_type": "code",
   "execution_count": 12,
   "id": "32362585",
   "metadata": {},
   "outputs": [],
   "source": [
    "import tiktoken"
   ]
  },
  {
   "cell_type": "code",
   "execution_count": 13,
   "id": "12cd599d",
   "metadata": {},
   "outputs": [],
   "source": [
    "def create_dataloader1(txt , batch_size=4 , max_length=256 ,stride=128 , shuffle=True , drop_last=True, num_workers=0):\n",
    "\n",
    "    tokenizer = tiktoken.get_encoding(\"gpt2\")\n",
    "\n",
    "    dataset =  GPTDataset1(txt , tokenizer , max_length , stride)\n",
    "\n",
    "    #create dataset\n",
    "    dataloader = DataLoader(\n",
    "        dataset ,\n",
    "        batch_size=batch_size,\n",
    "        shuffle=shuffle,\n",
    "        drop_last=drop_last,\n",
    "        num_workers = num_workers\n",
    "    )\n",
    "    return dataloader\n",
    "\n",
    "\n"
   ]
  },
  {
   "cell_type": "code",
   "execution_count": 14,
   "id": "783a765f",
   "metadata": {},
   "outputs": [],
   "source": [
    "max_length =4\n",
    "dataloader = create_dataloader1(\n",
    "    raw_text , batch_size=8 , max_length = max_length , stride = max_length , shuffle=False\n",
    ")\n",
    "\n",
    "data_iter = iter(dataloader)\n",
    "inputs , targets = next(data_iter)"
   ]
  },
  {
   "cell_type": "code",
   "execution_count": 15,
   "id": "3ffd4f40",
   "metadata": {},
   "outputs": [
    {
     "name": "stdout",
     "output_type": "stream",
     "text": [
      "tensor([[   40,   367,  2885,  1464],\n",
      "        [ 1807,  3619,   402,   271],\n",
      "        [10899,  2138,   257,  7026],\n",
      "        [15632,   438,  2016,   257],\n",
      "        [  922,  5891,  1576,   438],\n",
      "        [  568,   340,   373,   645],\n",
      "        [ 1049,  5975,   284,   502],\n",
      "        [  284,  3285,   326,    11]])\n"
     ]
    }
   ],
   "source": [
    "print(inputs)"
   ]
  },
  {
   "cell_type": "code",
   "execution_count": 17,
   "id": "e9ed77db",
   "metadata": {},
   "outputs": [],
   "source": [
    "token_emb = token_embedding_layer(inputs)"
   ]
  },
  {
   "cell_type": "code",
   "execution_count": 18,
   "id": "43d6a4a9",
   "metadata": {},
   "outputs": [
    {
     "data": {
      "text/plain": [
       "torch.Size([8, 4, 256])"
      ]
     },
     "execution_count": 18,
     "metadata": {},
     "output_type": "execute_result"
    }
   ],
   "source": [
    "token_emb.shape"
   ]
  },
  {
   "cell_type": "code",
   "execution_count": 19,
   "id": "2fdb28d0",
   "metadata": {},
   "outputs": [],
   "source": [
    "context_length = max_length\n",
    "pos_embedding_layer = torch.nn.Embedding(context_length , output_dim)"
   ]
  },
  {
   "cell_type": "code",
   "execution_count": 22,
   "id": "48cbe4e6",
   "metadata": {},
   "outputs": [
    {
     "name": "stdout",
     "output_type": "stream",
     "text": [
      "torch.Size([4, 256])\n"
     ]
    }
   ],
   "source": [
    "pos_emb = pos_embedding_layer(torch.arange(max_length))\n",
    "print(pos_emb.shape)"
   ]
  },
  {
   "cell_type": "code",
   "execution_count": 24,
   "id": "9ffe3a2a",
   "metadata": {},
   "outputs": [
    {
     "name": "stdout",
     "output_type": "stream",
     "text": [
      "torch.Size([8, 4, 256])\n"
     ]
    }
   ],
   "source": [
    "input_emb = token_emb + pos_emb\n",
    "print(input_emb.shape)"
   ]
  },
  {
   "cell_type": "code",
   "execution_count": null,
   "id": "7340b635",
   "metadata": {},
   "outputs": [],
   "source": []
  }
 ],
 "metadata": {
  "kernelspec": {
   "display_name": "base",
   "language": "python",
   "name": "python3"
  },
  "language_info": {
   "codemirror_mode": {
    "name": "ipython",
    "version": 3
   },
   "file_extension": ".py",
   "mimetype": "text/x-python",
   "name": "python",
   "nbconvert_exporter": "python",
   "pygments_lexer": "ipython3",
   "version": "3.12.7"
  }
 },
 "nbformat": 4,
 "nbformat_minor": 5
}
