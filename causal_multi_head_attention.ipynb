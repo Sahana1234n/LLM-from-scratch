{
 "cells": [
  {
   "cell_type": "code",
   "execution_count": 3,
   "id": "6bc40563",
   "metadata": {},
   "outputs": [],
   "source": [
    "import torch"
   ]
  },
  {
   "cell_type": "code",
   "execution_count": 19,
   "id": "fa5d5670",
   "metadata": {},
   "outputs": [],
   "source": [
    "import torch.nn as nn\n",
    "\n",
    "class SelfAttention1(nn.Module):\n",
    "    def __init__(self , d_in , d_out):\n",
    "        super().__init__()\n",
    "        self.W_query = nn.Parameter(torch.rand(d_in , d_out))\n",
    "        self.W_key = nn.Parameter(torch.rand(d_in , d_out))\n",
    "        self.W_value = nn.Parameter(torch.rand(d_in , d_out))\n",
    "\n",
    "    def forward(self , input):\n",
    "        query = input@self.W_query   \n",
    "        key = input@self.W_key\n",
    "        values = input@self.W_value\n",
    "\n",
    "        attention_score = query@key\n",
    "        attention_weights = torch.softmax(attention_score/key.shape[-1]**0.5 , dim=-1) \n",
    "\n",
    "        context_vector = attention_weights@values\n",
    "\n",
    "        return context_vector \n",
    "\n",
    "\n",
    "\n",
    "       \n"
   ]
  },
  {
   "cell_type": "code",
   "execution_count": 20,
   "id": "6c57205d",
   "metadata": {},
   "outputs": [],
   "source": [
    "d_in = 6\n",
    "d_out =3\n",
    "\n",
    "torch.manual_seed(123)\n",
    "W_query = torch.nn.Parameter(torch.rand(d_in,d_out) , requires_grad=False)\n",
    "W_key = torch.nn.Parameter(torch.rand(d_in,d_out) , requires_grad=False)\n",
    "W_value = torch.nn.Parameter(torch.rand(d_in,d_out) , requires_grad=False)"
   ]
  },
  {
   "cell_type": "code",
   "execution_count": 21,
   "id": "b8edfaae",
   "metadata": {},
   "outputs": [],
   "source": [
    "inputs = torch.tensor(\n",
    "    [[0.43 , 0.15 , 0.89], #Your\n",
    "    [0.55 , 0.87 , 0.66], #journey\n",
    "    [0.57 , 0.85 , 0.64], #starts\n",
    "    [0.22 , 0.58 , 0.33], #with\n",
    "    [0.77 , 0.25, 0.10], #one\n",
    "    [0.05 , 0.80, 0.55]]#step\n",
    ")"
   ]
  },
  {
   "cell_type": "code",
   "execution_count": 24,
   "id": "55d115d1",
   "metadata": {},
   "outputs": [],
   "source": [
    "sa = SelfAttention1(3 , 3)\n",
    "queries = W_query@inputs.T\n",
    "keys = W_key@inputs.T\n",
    "\n",
    "attention_score = queries@keys\n",
    "\n",
    "attention_weights = torch.softmax(attention_score/keys.shape[-1]**0.5 , dim=-1)"
   ]
  },
  {
   "cell_type": "code",
   "execution_count": 27,
   "id": "44416262",
   "metadata": {},
   "outputs": [
    {
     "name": "stdout",
     "output_type": "stream",
     "text": [
      "tensor([[1., 0., 0., 0., 0., 0.],\n",
      "        [1., 1., 0., 0., 0., 0.],\n",
      "        [1., 1., 1., 0., 0., 0.],\n",
      "        [1., 1., 1., 1., 0., 0.],\n",
      "        [1., 1., 1., 1., 1., 0.],\n",
      "        [1., 1., 1., 1., 1., 1.]])\n"
     ]
    }
   ],
   "source": [
    "context_length = attention_score.shape[0]\n",
    "mask_sample = torch.tril(torch.ones(context_length , context_length))\n",
    "print(mask_sample)"
   ]
  },
  {
   "cell_type": "code",
   "execution_count": 28,
   "id": "f2aa00c4",
   "metadata": {},
   "outputs": [
    {
     "name": "stdout",
     "output_type": "stream",
     "text": [
      "tensor([[2.8975, 0.0000, 0.0000, 0.0000, 0.0000, 0.0000],\n",
      "        [4.2748, 6.4082, 0.0000, 0.0000, 0.0000, 0.0000],\n",
      "        [1.1340, 1.7285, 1.7092, 0.0000, 0.0000, 0.0000],\n",
      "        [4.5643, 6.9088, 6.8318, 3.8341, 0.0000, 0.0000],\n",
      "        [1.6228, 2.5020, 2.4739, 1.3939, 1.2721, 0.0000],\n",
      "        [3.6002, 5.4342, 5.3715, 3.0204, 2.7298, 3.8237]])\n"
     ]
    }
   ],
   "source": [
    "mask_sample = attention_score*mask_sample\n",
    "print(mask_sample)"
   ]
  },
  {
   "cell_type": "code",
   "execution_count": 29,
   "id": "9e96c4d1",
   "metadata": {},
   "outputs": [
    {
     "name": "stdout",
     "output_type": "stream",
     "text": [
      "tensor([[1.0000, 0.0000, 0.0000, 0.0000, 0.0000, 0.0000],\n",
      "        [0.4001, 0.5998, 0.0000, 0.0000, 0.0000, 0.0000],\n",
      "        [0.2480, 0.3781, 0.3739, 0.0000, 0.0000, 0.0000],\n",
      "        [0.2062, 0.3121, 0.3086, 0.1732, 0.0000, 0.0000],\n",
      "        [0.1752, 0.2701, 0.2670, 0.1505, 0.1373, 0.0000],\n",
      "        [0.1501, 0.2266, 0.2240, 0.1260, 0.1138, 0.1595]])\n"
     ]
    }
   ],
   "source": [
    "row_sums = mask_sample.sum(dim=1 , keepdim=True)\n",
    "mask_sample_norm = mask_sample / row_sums\n",
    "print(mask_sample_norm)"
   ]
  },
  {
   "cell_type": "code",
   "execution_count": 30,
   "id": "a385dfc7",
   "metadata": {},
   "outputs": [
    {
     "name": "stdout",
     "output_type": "stream",
     "text": [
      "tensor([[2.8975, 4.4936, 4.4457, 2.4991, 2.3309, 3.1250],\n",
      "        [4.2748, 6.4082, 6.3347, 3.5557, 3.2284, 4.4984],\n",
      "        [1.1340, 1.7285, 1.7092, 0.9605, 0.8811, 1.2094],\n",
      "        [4.5643, 6.9088, 6.8318, 3.8341, 3.5225, 4.8288],\n",
      "        [1.6228, 2.5020, 2.4739, 1.3939, 1.2721, 1.7556],\n",
      "        [3.6002, 5.4342, 5.3715, 3.0204, 2.7298, 3.8237]])\n"
     ]
    }
   ],
   "source": [
    "print(attention_score)"
   ]
  },
  {
   "cell_type": "code",
   "execution_count": 39,
   "id": "c462d1be",
   "metadata": {},
   "outputs": [
    {
     "name": "stdout",
     "output_type": "stream",
     "text": [
      "tensor([[0., 1., 1., 1., 1., 1.],\n",
      "        [0., 0., 1., 1., 1., 1.],\n",
      "        [0., 0., 0., 1., 1., 1.],\n",
      "        [0., 0., 0., 0., 1., 1.],\n",
      "        [0., 0., 0., 0., 0., 1.],\n",
      "        [0., 0., 0., 0., 0., 0.]])\n",
      "tensor([[2.8975,   -inf,   -inf,   -inf,   -inf,   -inf],\n",
      "        [4.2748, 6.4082,   -inf,   -inf,   -inf,   -inf],\n",
      "        [1.1340, 1.7285, 1.7092,   -inf,   -inf,   -inf],\n",
      "        [4.5643, 6.9088, 6.8318, 3.8341,   -inf,   -inf],\n",
      "        [1.6228, 2.5020, 2.4739, 1.3939, 1.2721,   -inf],\n",
      "        [3.6002, 5.4342, 5.3715, 3.0204, 2.7298, 3.8237]])\n"
     ]
    }
   ],
   "source": [
    "mask = torch.triu(torch.ones(context_length , context_length),diagonal=1)\n",
    "print(mask)\n",
    "masked = attention_score.masked_fill(mask.bool(),-torch.inf)\n",
    "print(masked)"
   ]
  },
  {
   "cell_type": "code",
   "execution_count": 40,
   "id": "dc050f22",
   "metadata": {},
   "outputs": [
    {
     "name": "stdout",
     "output_type": "stream",
     "text": [
      "tensor([[1.0000, 0.0000, 0.0000, 0.0000, 0.0000, 0.0000],\n",
      "        [0.2951, 0.7049, 0.0000, 0.0000, 0.0000, 0.0000],\n",
      "        [0.2825, 0.3601, 0.3573, 0.0000, 0.0000, 0.0000],\n",
      "        [0.1456, 0.3791, 0.3673, 0.1080, 0.0000, 0.0000],\n",
      "        [0.1778, 0.2546, 0.2517, 0.1619, 0.1541, 0.0000],\n",
      "        [0.1288, 0.2724, 0.2655, 0.1017, 0.0903, 0.1412]])\n"
     ]
    }
   ],
   "source": [
    "attention_weight = torch.softmax(masked / keys.shape[-1]**0.5 , dim=1)\n",
    "print(attention_weight)"
   ]
  },
  {
   "cell_type": "code",
   "execution_count": 41,
   "id": "b62a00a0",
   "metadata": {},
   "outputs": [],
   "source": [
    "torch.manual_seed(123)\n",
    "dropout = torch.nn.Dropout(0.5)\n"
   ]
  },
  {
   "cell_type": "code",
   "execution_count": 42,
   "id": "0740e695",
   "metadata": {},
   "outputs": [
    {
     "name": "stdout",
     "output_type": "stream",
     "text": [
      "tensor([[1., 1., 1., 1., 1., 1.],\n",
      "        [1., 1., 1., 1., 1., 1.],\n",
      "        [1., 1., 1., 1., 1., 1.],\n",
      "        [1., 1., 1., 1., 1., 1.],\n",
      "        [1., 1., 1., 1., 1., 1.],\n",
      "        [1., 1., 1., 1., 1., 1.]])\n"
     ]
    }
   ],
   "source": [
    "ex = torch.ones(6,6)\n",
    "print(ex)"
   ]
  },
  {
   "cell_type": "code",
   "execution_count": 44,
   "id": "5f054a4f",
   "metadata": {},
   "outputs": [
    {
     "name": "stdout",
     "output_type": "stream",
     "text": [
      "tensor([[2., 2., 0., 2., 2., 0.],\n",
      "        [0., 0., 0., 2., 0., 2.],\n",
      "        [2., 2., 2., 2., 0., 2.],\n",
      "        [0., 2., 2., 0., 0., 2.],\n",
      "        [0., 2., 0., 2., 0., 2.],\n",
      "        [0., 2., 2., 2., 2., 0.]])\n"
     ]
    }
   ],
   "source": [
    "print(dropout(ex))"
   ]
  },
  {
   "cell_type": "code",
   "execution_count": null,
   "id": "4aa47629",
   "metadata": {},
   "outputs": [],
   "source": []
  }
 ],
 "metadata": {
  "kernelspec": {
   "display_name": "base",
   "language": "python",
   "name": "python3"
  },
  "language_info": {
   "codemirror_mode": {
    "name": "ipython",
    "version": 3
   },
   "file_extension": ".py",
   "mimetype": "text/x-python",
   "name": "python",
   "nbconvert_exporter": "python",
   "pygments_lexer": "ipython3",
   "version": "3.12.7"
  }
 },
 "nbformat": 4,
 "nbformat_minor": 5
}
