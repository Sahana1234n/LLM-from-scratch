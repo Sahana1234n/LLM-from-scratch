{
 "cells": [
  {
   "cell_type": "code",
   "execution_count": 1,
   "id": "548ef176",
   "metadata": {},
   "outputs": [
    {
     "name": "stderr",
     "output_type": "stream",
     "text": [
      "c:\\Users\\sahan\\anaconda3\\Lib\\site-packages\\torch\\cuda\\__init__.py:63: FutureWarning: The pynvml package is deprecated. Please install nvidia-ml-py instead. If you did not install pynvml directly, please report this to the maintainers of the package that installed pynvml for you.\n",
      "  import pynvml  # type: ignore[import]\n"
     ]
    }
   ],
   "source": [
    "import torch\n",
    "\n",
    "inputs = torch.tensor(\n",
    "    [[0.43 , 0.15 , 0.89], #Your\n",
    "    [0.55 , 0.87 , 0.66], #journey\n",
    "    [0.57 , 0.85 , 0.64], #starts\n",
    "    [0.22 , 0.58 , 0.33], #with\n",
    "    [0.77 , 0.25, 0.10], #one\n",
    "    [0.05 , 0.80, 0.55]]#step\n",
    ")\n"
   ]
  },
  {
   "cell_type": "code",
   "execution_count": 3,
   "id": "aa1de3e1",
   "metadata": {},
   "outputs": [],
   "source": [
    "d_in = inputs.shape[1]\n",
    "d_out = d_in"
   ]
  },
  {
   "cell_type": "code",
   "execution_count": 4,
   "id": "b6a235fa",
   "metadata": {},
   "outputs": [],
   "source": [
    "torch.manual_seed(123)\n",
    "W_query = torch.nn.Parameter(torch.rand(d_in,d_out) , requires_grad=False)\n",
    "W_key = torch.nn.Parameter(torch.rand(d_in,d_out) , requires_grad=False)\n",
    "W_value = torch.nn.Parameter(torch.rand(d_in,d_out) , requires_grad=False)"
   ]
  },
  {
   "cell_type": "code",
   "execution_count": 8,
   "id": "51d453c8",
   "metadata": {},
   "outputs": [
    {
     "name": "stdout",
     "output_type": "stream",
     "text": [
      "query: Parameter containing:\n",
      "tensor([[0.2961, 0.5166, 0.2517],\n",
      "        [0.6886, 0.0740, 0.8665],\n",
      "        [0.1366, 0.1025, 0.1841]]) \n",
      " key: Parameter containing:\n",
      "tensor([[0.7264, 0.3153, 0.6871],\n",
      "        [0.0756, 0.1966, 0.3164],\n",
      "        [0.4017, 0.1186, 0.8274]]) \n",
      " value: Parameter containing:\n",
      "tensor([[0.3821, 0.6605, 0.8536],\n",
      "        [0.5932, 0.6367, 0.9826],\n",
      "        [0.2745, 0.6584, 0.2775]])\n"
     ]
    }
   ],
   "source": [
    "print(\"query:\" , W_query ,\"\\n key:\",W_key , \"\\n value:\",W_value)"
   ]
  },
  {
   "cell_type": "code",
   "execution_count": 12,
   "id": "8ac25e50",
   "metadata": {},
   "outputs": [
    {
     "name": "stdout",
     "output_type": "stream",
     "text": [
      "tensor([0.8520, 0.4161, 1.0138])\n",
      "tensor([0.7305, 0.4227, 1.1993])\n",
      "tensor([0.9074, 1.3518, 1.5075])\n"
     ]
    }
   ],
   "source": [
    "X_2 = inputs[1]\n",
    "\n",
    "\n",
    "query = X_2 @ W_query\n",
    "key = X_2 @ W_key\n",
    "value = X_2 @ W_value\n",
    "print(query)\n",
    "print(key)\n",
    "print(value)"
   ]
  },
  {
   "cell_type": "code",
   "execution_count": 13,
   "id": "346283c8",
   "metadata": {},
   "outputs": [
    {
     "name": "stdout",
     "output_type": "stream",
     "text": [
      "keys shape torch.Size([6, 3])\n",
      "queries shape torch.Size([6, 3])\n",
      "valuess shape torch.Size([6, 3])\n"
     ]
    }
   ],
   "source": [
    "queries = inputs@W_query\n",
    "keys = inputs@W_key\n",
    "value = inputs@W_value\n",
    "\n",
    "print(\"keys shape\", keys.shape)\n",
    "print(\"queries shape\", queries.shape)\n",
    "print(\"valuess shape\",value.shape)\n",
    "\n"
   ]
  },
  {
   "cell_type": "code",
   "execution_count": 21,
   "id": "1f7e0600",
   "metadata": {},
   "outputs": [
    {
     "name": "stdout",
     "output_type": "stream",
     "text": [
      "tensor([[0.7616, 0.8765, 0.8746, 0.4349, 0.5941, 0.4877],\n",
      "        [1.7872, 2.0141, 2.0091, 0.9952, 1.3538, 1.1227],\n",
      "        [1.7646, 1.9901, 1.9852, 0.9834, 1.3383, 1.1091],\n",
      "        [1.0664, 1.1947, 1.1916, 0.5897, 0.8004, 0.6667],\n",
      "        [0.8601, 0.9968, 0.9950, 0.4947, 0.6817, 0.5516],\n",
      "        [1.3458, 1.4957, 1.4915, 0.7374, 0.9968, 0.8366]])\n"
     ]
    }
   ],
   "source": [
    "attention_score = queries@keys.T\n",
    "print(attention_score)"
   ]
  },
  {
   "cell_type": "code",
   "execution_count": 28,
   "id": "367588bb",
   "metadata": {},
   "outputs": [],
   "source": [
    "import numpy as np\n",
    "attention_weights = torch.softmax(attention_score/np.sqrt(3) , dim=-1)"
   ]
  },
  {
   "cell_type": "code",
   "execution_count": 29,
   "id": "37bbf093",
   "metadata": {},
   "outputs": [
    {
     "data": {
      "text/plain": [
       "tensor([[0.1747, 0.1866, 0.1864, 0.1446, 0.1586, 0.1491],\n",
       "        [0.1862, 0.2123, 0.2117, 0.1179, 0.1450, 0.1269],\n",
       "        [0.1859, 0.2118, 0.2112, 0.1184, 0.1454, 0.1273],\n",
       "        [0.1798, 0.1936, 0.1932, 0.1365, 0.1542, 0.1427],\n",
       "        [0.1751, 0.1895, 0.1893, 0.1418, 0.1579, 0.1465],\n",
       "        [0.1837, 0.2003, 0.1998, 0.1293, 0.1501, 0.1369]])"
      ]
     },
     "execution_count": 29,
     "metadata": {},
     "output_type": "execute_result"
    }
   ],
   "source": [
    "attention_weights"
   ]
  },
  {
   "cell_type": "code",
   "execution_count": 31,
   "id": "b877702e",
   "metadata": {},
   "outputs": [
    {
     "data": {
      "text/plain": [
       "tensor(1.0000)"
      ]
     },
     "execution_count": 31,
     "metadata": {},
     "output_type": "execute_result"
    }
   ],
   "source": [
    "attention_weights[1].sum()"
   ]
  },
  {
   "cell_type": "code",
   "execution_count": 32,
   "id": "49aefb11",
   "metadata": {},
   "outputs": [],
   "source": [
    "context_vector = attention_weights@value"
   ]
  },
  {
   "cell_type": "code",
   "execution_count": 33,
   "id": "0ece7baa",
   "metadata": {},
   "outputs": [
    {
     "data": {
      "text/plain": [
       "tensor([[0.6692, 1.0276, 1.1106],\n",
       "        [0.6864, 1.0577, 1.1389],\n",
       "        [0.6860, 1.0570, 1.1383],\n",
       "        [0.6738, 1.0361, 1.1180],\n",
       "        [0.6711, 1.0307, 1.1139],\n",
       "        [0.6783, 1.0441, 1.1252]])"
      ]
     },
     "execution_count": 33,
     "metadata": {},
     "output_type": "execute_result"
    }
   ],
   "source": [
    "context_vector"
   ]
  },
  {
   "cell_type": "code",
   "execution_count": null,
   "id": "82b07ae5",
   "metadata": {},
   "outputs": [],
   "source": [
    "import torch.nn as nn\n",
    "\n",
    "class SelfAttention1(nn.Module):\n",
    "    def __init__(self , d_in , d_out):\n",
    "        super().__init__()\n",
    "        self.W_query = nn.Parameter(torch.rand(d_in , d_out))\n",
    "        self.W_key = nn.Parameter(torch.rand(d_in , d_out))\n",
    "        self.W_value = nn.Parameter(torch.rand(d_in , d_out))\n",
    "\n",
    "    def forward(self , input):\n",
    "        query = input@self.W_query   \n",
    "        key = input@self.W_key\n",
    "        values = input@self.W_value\n",
    "\n",
    "        attention_score = query@key\n",
    "        attention_weights = torch.softmax(attention_score/key.shape[-1]**0.5 , dim=-1) \n",
    "\n",
    "        context_vector = attention_weights@values\n",
    "\n",
    "        return context_vector\n",
    "\n",
    "\n",
    "\n",
    "       \n"
   ]
  },
  {
   "cell_type": "code",
   "execution_count": null,
   "id": "6694bf79",
   "metadata": {},
   "outputs": [],
   "source": []
  }
 ],
 "metadata": {
  "kernelspec": {
   "display_name": "base",
   "language": "python",
   "name": "python3"
  },
  "language_info": {
   "codemirror_mode": {
    "name": "ipython",
    "version": 3
   },
   "file_extension": ".py",
   "mimetype": "text/x-python",
   "name": "python",
   "nbconvert_exporter": "python",
   "pygments_lexer": "ipython3",
   "version": "3.12.7"
  }
 },
 "nbformat": 4,
 "nbformat_minor": 5
}
