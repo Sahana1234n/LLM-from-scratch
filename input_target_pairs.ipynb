{
 "cells": [
  {
   "cell_type": "code",
   "execution_count": 1,
   "id": "ff296c15",
   "metadata": {},
   "outputs": [],
   "source": [
    "import tiktoken"
   ]
  },
  {
   "cell_type": "code",
   "execution_count": 3,
   "id": "bcbe22a1",
   "metadata": {},
   "outputs": [
    {
     "name": "stdout",
     "output_type": "stream",
     "text": [
      "5145\n"
     ]
    }
   ],
   "source": [
    "with open(\"the-verdict.txt\" , 'r' , encoding='utf-8') as f:\n",
    "    raw_text = f.read()\n",
    "\n",
    "tokenizer = tiktoken.get_encoding(\"gpt2\") \n",
    "enc_text = tokenizer.encode(raw_text) \n",
    "print(len(enc_text))  "
   ]
  },
  {
   "cell_type": "code",
   "execution_count": 15,
   "id": "b5373ac0",
   "metadata": {},
   "outputs": [
    {
     "name": "stdout",
     "output_type": "stream",
     "text": [
      "x:[40, 367, 2885, 1464, 1807, 3619, 402, 271, 10899, 2138]\n",
      "y:[367, 2885, 1464, 1807, 3619, 402, 271, 10899, 2138, 257]\n"
     ]
    }
   ],
   "source": [
    "context_size=10\n",
    "\n",
    "x = enc_text[:context_size]\n",
    "y = enc_text[1:context_size+1]\n",
    "\n",
    "print(f\"x:{x}\")\n",
    "print(f\"y:{y}\")"
   ]
  },
  {
   "cell_type": "code",
   "execution_count": 12,
   "id": "9fe9f607",
   "metadata": {},
   "outputs": [
    {
     "name": "stdout",
     "output_type": "stream",
     "text": [
      "[40] -> 367\n",
      "[40, 367] -> 2885\n",
      "[40, 367, 2885] -> 1464\n",
      "[40, 367, 2885, 1464] -> 1807\n",
      "[40, 367, 2885, 1464, 1807] -> 3619\n",
      "[40, 367, 2885, 1464, 1807, 3619] -> 402\n",
      "[40, 367, 2885, 1464, 1807, 3619, 402] -> 271\n",
      "[40, 367, 2885, 1464, 1807, 3619, 402, 271] -> 10899\n",
      "[40, 367, 2885, 1464, 1807, 3619, 402, 271, 10899] -> 2138\n",
      "[40, 367, 2885, 1464, 1807, 3619, 402, 271, 10899, 2138] -> 257\n"
     ]
    }
   ],
   "source": [
    "for i in range(1 , context_size+1):\n",
    "    context = enc_text[:i]\n",
    "    desired = enc_text[i]\n",
    "\n",
    "    print(context ,\"->\", desired)"
   ]
  },
  {
   "cell_type": "code",
   "execution_count": 13,
   "id": "c91362ea",
   "metadata": {},
   "outputs": [
    {
     "name": "stdout",
     "output_type": "stream",
     "text": [
      "I ->  H\n",
      "I H -> AD\n",
      "I HAD ->  always\n",
      "I HAD always ->  thought\n",
      "I HAD always thought ->  Jack\n",
      "I HAD always thought Jack ->  G\n",
      "I HAD always thought Jack G -> is\n",
      "I HAD always thought Jack Gis -> burn\n",
      "I HAD always thought Jack Gisburn ->  rather\n",
      "I HAD always thought Jack Gisburn rather ->  a\n"
     ]
    }
   ],
   "source": [
    "for i in range(1 , context_size+1):\n",
    "    context = enc_text[:i]\n",
    "    desired = enc_text[i]\n",
    "\n",
    "    print(tokenizer.decode(context) ,\"->\", tokenizer.decode([desired]))"
   ]
  },
  {
   "cell_type": "code",
   "execution_count": 29,
   "id": "f90424d1",
   "metadata": {},
   "outputs": [],
   "source": [
    "from torch.utils.data import Dataset , DataLoader\n",
    "\n",
    "class GPTDataset1(Dataset):\n",
    "    def __init__(self , txt , tokenizer , max_length , stride):\n",
    "        self.input_ids = []\n",
    "        self.output_ids = []\n",
    "\n",
    "        token_ids = tokenizer.encode(txt , allowed_special={\"<|endoftext|>\"})\n",
    "\n",
    "        # use a sliding window to chunk \n",
    "\n",
    "        for i in range(0 , len(token_ids)- max_length , stride):\n",
    "            input_chunk = token_ids[i:i + max_length]\n",
    "            target_chunk = token_ids[i+1:i+max_length+1]\n",
    "            self.input_ids.append(torch.tensor(input_chunk))\n",
    "            self.output_ids.append(torch.tensor(target_chunk))\n",
    "\n",
    "    def __len__(self):\n",
    "            return len(self.input_ids) \n",
    "\n",
    "    def __getitem__(self , idx):\n",
    "            return self.input_ids[idx] , self.output_ids[idx]       "
   ]
  },
  {
   "cell_type": "code",
   "execution_count": 30,
   "id": "94d7f207",
   "metadata": {},
   "outputs": [],
   "source": [
    "def create_dataloader1(txt , batch_size=4 , max_length=256 ,stride=128 , shuffle=True , drop_last=True, num_workers=0):\n",
    "\n",
    "    tokenizer = tiktoken.get_encoding(\"gpt2\")\n",
    "\n",
    "    dataset =  GPTDataset1(txt , tokenizer , max_length , stride)\n",
    "\n",
    "    #create dataset\n",
    "    dataloader = DataLoader(\n",
    "        dataset ,\n",
    "        batch_size=batch_size,\n",
    "        shuffle=shuffle,\n",
    "        drop_last=drop_last,\n",
    "        num_workers = num_workers\n",
    "    )\n",
    "    return dataloader\n",
    "\n",
    "\n"
   ]
  },
  {
   "cell_type": "code",
   "execution_count": 31,
   "id": "af4ae84c",
   "metadata": {},
   "outputs": [],
   "source": [
    "with open(\"the-verdict.txt\",'r',encoding='utf-8') as f:\n",
    "    raw_text = f.read()"
   ]
  },
  {
   "cell_type": "code",
   "execution_count": 32,
   "id": "ed9d99db",
   "metadata": {},
   "outputs": [
    {
     "name": "stdout",
     "output_type": "stream",
     "text": [
      "[tensor([[1464, 9885,  345,  286]]), tensor([[9885,  345,  286, 2376]])]\n"
     ]
    }
   ],
   "source": [
    "import torch\n",
    "\n",
    "dataloader = create_dataloader1(\n",
    "    raw_text , batch_size=1,max_length=4 , stride=1 , shuffle=True\n",
    ")\n",
    "\n",
    "data_iter = iter(dataloader)\n",
    "first_batch = next(data_iter)\n",
    "print(first_batch)"
   ]
  },
  {
   "cell_type": "code",
   "execution_count": null,
   "id": "54937c12",
   "metadata": {},
   "outputs": [],
   "source": []
  }
 ],
 "metadata": {
  "kernelspec": {
   "display_name": "base",
   "language": "python",
   "name": "python3"
  },
  "language_info": {
   "codemirror_mode": {
    "name": "ipython",
    "version": 3
   },
   "file_extension": ".py",
   "mimetype": "text/x-python",
   "name": "python",
   "nbconvert_exporter": "python",
   "pygments_lexer": "ipython3",
   "version": "3.12.7"
  }
 },
 "nbformat": 4,
 "nbformat_minor": 5
}
